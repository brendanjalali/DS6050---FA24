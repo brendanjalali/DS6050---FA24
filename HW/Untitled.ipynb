{
 "cells": [
  {
   "cell_type": "code",
   "execution_count": 2,
   "id": "b370ffb5-716e-4e58-b06a-b6449a2a1086",
   "metadata": {
    "tags": []
   },
   "outputs": [],
   "source": [
    "import numpy as np\n"
   ]
  },
  {
   "cell_type": "code",
   "execution_count": 6,
   "id": "709b7715-6e3d-4824-8f67-e845803cdb20",
   "metadata": {
    "tags": []
   },
   "outputs": [],
   "source": [
    "W = np.array([0.2, -0.5])\n",
    "regularizations = W**2"
   ]
  },
  {
   "cell_type": "code",
   "execution_count": 7,
   "id": "e1cff87f-96b0-4a51-b087-bbcda588e699",
   "metadata": {
    "tags": []
   },
   "outputs": [],
   "source": [
    "loss = np.exp(regularizations)/np.sum(np.exp(regularizations))"
   ]
  },
  {
   "cell_type": "code",
   "execution_count": 8,
   "id": "2ea45950-bf7a-46a6-be5a-44a0c258e578",
   "metadata": {
    "tags": []
   },
   "outputs": [
    {
     "data": {
      "text/plain": [
       "array([0.44769209, 0.55230791])"
      ]
     },
     "execution_count": 8,
     "metadata": {},
     "output_type": "execute_result"
    }
   ],
   "source": [
    "loss"
   ]
  },
  {
   "cell_type": "code",
   "execution_count": null,
   "id": "9b4119be-fa10-43da-aa5f-7f8fc5029d77",
   "metadata": {},
   "outputs": [],
   "source": []
  }
 ],
 "metadata": {
  "kernelspec": {
   "display_name": "Python 3 (ipykernel)",
   "language": "python",
   "name": "python3"
  },
  "language_info": {
   "codemirror_mode": {
    "name": "ipython",
    "version": 3
   },
   "file_extension": ".py",
   "mimetype": "text/x-python",
   "name": "python",
   "nbconvert_exporter": "python",
   "pygments_lexer": "ipython3",
   "version": "3.11.4"
  }
 },
 "nbformat": 4,
 "nbformat_minor": 5
}
